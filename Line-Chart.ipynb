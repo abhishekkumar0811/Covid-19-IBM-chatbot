{
 "cells": [
  {
   "cell_type": "code",
   "execution_count": null,
   "metadata": {},
   "outputs": [],
   "source": [
    "import pandas as pd\n",
    "import seaborn as sns\n",
    "import matplotlib.pyplot as plt\n",
    "import datetime\n",
    "covid_data = pd.read_csv('https://learn.sharpsightlabs.com/datasets/covid19/covid_data_2020-04-09.csv'\n",
    ",sep = \";\"\n",
    "                         )\n",
    "covid_data = covid_data.assign(date = pd.to_datetime(covid_data.date, format='%Y-%m-%d'))\n",
    "covid_data = covid_data.fillna(value = {'subregion':''})\n",
    "plt.style.use('bmh')\n",
    "sns.lineplot(data = covid_data\n",
    ",x = 'date'\n",
    ",y = 'new_cases'\n",
    "             )\n",
    "sns.lineplot(data = covid_data\n",
    ",x = 'date'\n",
    ",y = 'new_cases'\n",
    "             )\n",
    "plt.xticks(rotation=45, horizontalalignment='right')\n",
    "plt.title('Covid-19 daily new cases\\nin the United States', fontsize = 18)\n",
    "covid_top9_countries = (covid_data\n",
    " .query('date >= datetime.date(2020, 4, 9)')\n",
    " .sort_values('new_cases', ascending = False)\n",
    " .iloc[0:9]\n",
    " .country\n",
    ")\n",
    "print(covid_top9_countries.values)\n",
    "covid_data_country_sub = (covid_data\n",
    " .filter(['country','date','new_cases'])\n",
    " .query(\"country in @covid_top9_countries.values\")\n",
    " .groupby(['country','date'])\n",
    " .agg('sum')\n",
    " .reset_index()\n",
    ")\n",
    "grid_layout = sns.FacetGrid(covid_data_country_sub\n",
    ",col = 'country'\n",
    ",col_wrap = 3\n",
    ",col_order= covid_top9_countries.values\n",
    ",aspect = 1.2\n",
    "                            )\n",
    "grid_layout.map(sns.lineplot, 'date', 'new_cases',color ='#FF2700')\n",
    "grid_layout.set_titles('{col_name}')\n",
    "for ax in grid_layout.axes:ax.set_xlabel(\"\")\n",
    "ax.set_ylabel(\"\")\n",
    "for ax in grid_layout.axes:\n",
    " for label in ax.get_xticklabels():label.set_rotation(90)\n",
    "grid_layout.fig.text(0.5, -.1,'Date', fontsize=20) #add text\n",
    "grid_layout.fig.text(-0.12, .5,'New Cases', fontsize=20) #add text\n",
    "grid_layout.fig.suptitle('Growth of Daily New Cases for COVID-19',y = 1.12,fontsize = 2  )\n"
   ]
  }
 ],
 "metadata": {
  "kernelspec": {
   "display_name": "Python 3",
   "language": "python",
   "name": "python3"
  },
  "language_info": {
   "codemirror_mode": {
    "name": "ipython",
    "version": 3
   },
   "file_extension": ".py",
   "mimetype": "text/x-python",
   "name": "python",
   "nbconvert_exporter": "python",
   "pygments_lexer": "ipython3",
   "version": "3.7.0"
  }
 },
 "nbformat": 4,
 "nbformat_minor": 4
}

{
 "cells": [
  {
   "cell_type": "code",
   "execution_count": null,
   "metadata": {},
   "outputs": [],
   "source": [
    "import folium\n",
    "import pandas as pd \n",
    "India_Map=folium.Map(location=[21,78],zoom_start=4,tiles='Stamen Terrain')\n",
    "Maharashtra=folium.map.FeatureGroup()\n",
    "Maharashtra.add_child(folium.features.CircleMarker([19.75,75.71],radius=5,color=\"red\",fill_color=\"Red\"))\n",
    "India_Map.add_child(Maharashtra)\n",
    "folium.Marker([19.75,75.71],popup='Mahrashtra:-Highest number of Total confirmed cases').add_to(India_Map)\n"
   ]
  },
  {
   "cell_type": "code",
   "execution_count": null,
   "metadata": {},
   "outputs": [],
   "source": []
  }
 ],
 "metadata": {
  "kernelspec": {
   "display_name": "Python 3",
   "language": "python",
   "name": "python3"
  },
  "language_info": {
   "codemirror_mode": {
    "name": "ipython",
    "version": 3
   },
   "file_extension": ".py",
   "mimetype": "text/x-python",
   "name": "python",
   "nbconvert_exporter": "python",
   "pygments_lexer": "ipython3",
   "version": "3.7.0"
  }
 },
 "nbformat": 4,
 "nbformat_minor": 4
}

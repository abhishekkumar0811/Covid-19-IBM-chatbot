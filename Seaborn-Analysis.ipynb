{
 "cells": [
  {
   "cell_type": "code",
   "execution_count": null,
   "metadata": {},
   "outputs": [],
   "source": [
    "import pandas as pd\n",
    "data=pd.read_csv(\"AgeGroupDetails.csv\")\n",
    "data.head()\n",
    "import seaborn as sns\n",
    "sns.pairplot(data)\n",
    "data1=pd.read_csv(\"covid_19_india.csv\")\n",
    "sns.pairplot(data1)\n",
    "data2=pd.read_csv(\"StatewiseTestingDetails.csv\")\n",
    "sns.pairplot(data2)\n",
    "data3=pd.read_csv(\"HospitalBeds.csv\")\n",
    "sns.pairplot(data3)"
   ]
  },
  {
   "cell_type": "code",
   "execution_count": null,
   "metadata": {},
   "outputs": [],
   "source": []
  }
 ],
 "metadata": {
  "kernelspec": {
   "display_name": "Python 3",
   "language": "python",
   "name": "python3"
  },
  "language_info": {
   "codemirror_mode": {
    "name": "ipython",
    "version": 3
   },
   "file_extension": ".py",
   "mimetype": "text/x-python",
   "name": "python",
   "nbconvert_exporter": "python",
   "pygments_lexer": "ipython3",
   "version": "3.7.0"
  }
 },
 "nbformat": 4,
 "nbformat_minor": 4
}

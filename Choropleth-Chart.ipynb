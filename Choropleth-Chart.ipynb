{
 "cells": [
  {
   "cell_type": "code",
   "execution_count": null,
   "metadata": {},
   "outputs": [],
   "source": [
    "import pycountry\n",
    "import plotly.express as px\n",
    "import pandas as pd\n",
    "# ----------- Step 1 ------------\n",
    "URL_DATASET = r'https://raw.githubusercontent.com/datasets/covid-19/master/data/countries-aggregated.csv'\n",
    "df1 = pd.read_csv(URL_DATASET)\n",
    "# print(df1.head) # Uncomment to see what the dataframe is like\n",
    "# ----------- Step 2 ------------\n",
    "list_countries = df1['Country'].unique().tolist()\n",
    "# print(list_countries) # Uncomment to see list of countries\n",
    "d_country_code = {}  # To hold the country names and their ISO\n",
    "for country in list_countries:\n",
    "    try:\n",
    "        country_data = pycountry.countries.search_fuzzy(country)\n",
    "        # country_data is a list of objects of class pycountry.db.Country\n",
    "        # The first item  ie at index 0 of list is best fit\n",
    "        # object of class Country have an alpha_3 attribute\n",
    "        country_code = country_data[0].alpha_3\n",
    "        d_country_code.update({country: country_code})\n",
    "    except:\n",
    "        print('could not add ISO 3 code for ->', country)\n",
    "        # If could not find country, make ISO code ' '\n",
    "        d_country_code.update({country: ' '})\n",
    "\n",
    "# print(d_country_code) # Uncomment to check dictionary  \n",
    "\n",
    "# create a new column iso_alpha in the df\n",
    "# and fill it with appropriate iso 3 code\n",
    "for k, v in d_country_code.items():\n",
    "    df1.loc[(df1.Country == k), 'iso_alpha'] = v\n",
    "\n",
    "# print(df1.head)  # Uncomment to confirm that ISO codes added\n",
    "# ----------- Step 3 ------------\n",
    "fig = px.choropleth(data_frame = df1, \n",
    "                    locations= \"iso_alpha\",\n",
    "                    color= \"Confirmed\",  # value in column 'Confirmed' determines color\n",
    "                    hover_name= \"Country\",\n",
    "                    color_continuous_scale= 'RdYlGn',  #  color scale red, yellow green\n",
    "                    animation_frame= \"Date\")\n",
    "\n",
    "fig.show()\n"
   ]
  },
  {
   "cell_type": "code",
   "execution_count": null,
   "metadata": {},
   "outputs": [],
   "source": []
  }
 ],
 "metadata": {
  "kernelspec": {
   "display_name": "Python 3",
   "language": "python",
   "name": "python3"
  },
  "language_info": {
   "codemirror_mode": {
    "name": "ipython",
    "version": 3
   },
   "file_extension": ".py",
   "mimetype": "text/x-python",
   "name": "python",
   "nbconvert_exporter": "python",
   "pygments_lexer": "ipython3",
   "version": "3.7.0"
  }
 },
 "nbformat": 4,
 "nbformat_minor": 4
}
